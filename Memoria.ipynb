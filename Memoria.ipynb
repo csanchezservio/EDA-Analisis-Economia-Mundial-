{
 "cells": [
  {
   "attachments": {},
   "cell_type": "markdown",
   "metadata": {},
   "source": [
    "# **ANÁLISIS DE LA ECONOMÍA MUNDIAL**\n",
    "\n",
    "**Introducción**\n",
    "El objetivo del presente Análisis Exploratorio de Datos (EDA) es el estudio de la Economía Mundial (EM). Para ello, en este trabajo se lleva a cabo el análisis de cinco variables interconectadas con la EM, a saber: corrupción, coste de la vida, riqueza nacional, turismo y tasa de desempleo. De un lado, se evalúa el potencial impacto, directo o indirecto, de estas variables con la economía de diferentes países. De otro lado, se exponen las fortalezas y debilidades del presente análisis.\n",
    "\n",
    "**Objetivo**\n",
    "El objetivo principal de este EDA es realizar una evaluación descriptiva de cinco variables interconectadas con la EM. En primer lugar, se analiza la relación establecida entre corrupción y nivel de ingresos económicos. Aunque es un hecho probado, ha sido objeto de estudio de diversas escuelas y revistas económicas mundiales, vamos a intentar probar esta afirmación con datos. En segundo lugar, se explora la relación entre el índice de coste (coste de la vida) y los ingresos mensuales y cómo éstos afectan al poder adquisitivo o de compra. En tercer lugar, se estudia el nivel de riqueza nacional en base al Producto Interior bruto (PIB) per cápita. En cuarto lugar, se evalúa el impacto del turismo en los ingresos de un país y en su PIB. Por último, se realiza un análisis de las tasas de desempleo nacionales.\n",
    "El objetivo secundario consiste en analizar las fortalezas y debilidades presentes en el actual EDA en lo referente al estudio inferencial de la EM.\n",
    "\n",
    "**Material y métodos**\n",
    "\tSe obtuvieron los datos de diversos dataframes ya realizados y actualizados hasta el último trimestre de 2022 y contrastados con datos estadísticos de otras páginas, tales como worlddata.info en el caso de las variables corrupción, riqueza nacional, turismo y desempleo y numbeo.com para el coste de la vida. También se consultaron diversos ensayos de la Universidad Externado de Colombia, artículo de manos unidas.org y revistaeconomia.com para el caso de la corrupción y pobreza. Aunque se parte de ciertos conocimientos económicos se acude a diversos portales de economía como economipedia.com o expansión.com para actualizar conocimientos, tales como índice de coste e IPC y PIB per cápita, curva de Lorenz, índice de Gini e interpretar correctamente los datos.\n",
    "\tLa primera fase ha consistido en la recopilación de datos a partir de las fuentes arriba especificadas. La segunda fase se ha llevado a cabo mediante la filtración y ordenación de los datos a emplear para la realización del análisis mediante el uso de la librería pandas. La tercera fase ha consistido en la visualización de los datos mediante el empleo de las librerías matplotlib y seaborn de Python.\n",
    "\n",
    "**Resultados**\n",
    "\tCon respecto a la variable corrupción y su relación con la pobreza, observamos una fuerte correlación negativa entre ingresos anuales de un país y su índice de corrupción. Es decir, a mayores ingresos anuales de un país, menor es su índice de corrupción y viceversa.\n",
    "\tAtendiendo al costo de la vida, se ha observado que existe una correlación fuerte positiva entre el índice de coste (coste de la vida) y los ingresos mensuales de un país y entre éstos y el poder adquisitivo del mismo. A mayor índice de coste mayores son también los ingresos mensuales y mayor es por tanto su poder adquisitivo o de compra.\n",
    "\tSe ha comprobado cuáles son los países con mayor riqueza atendiendo a su PIB per cápita. Los países más prósperos en función de su crecimiento económico.\n",
    "\tEn cuanto al turismo, se ha llegado a la conclusión de que mayor número de visitas turísticas que recibe un país, no tiene por qué estar ligado a mayores ingresos si el turismo que recibe un país no es de calidad. Y cómo para determinados países supone un porcentaje importante de su PIB, es decir, dependen en gran medida de este sector.\n",
    "\tEn último lugar se ha analizado la tasa de desempleo de una muestra de países y se ha llegado a la conclusión de que existen elevadas tasas de desempleo a nivel mundial.\n",
    "\n",
    "**Conclusión**\n",
    "\tA pesar de ser un tema que personalmente me resulta interesante, del cual he disfrutado analizar e investigar, y de partir de datos dados, la ejecución de este EDA no ha sido una tarea fácil por encontrarme aún en proceso de aprendizaje y por el tiempo que requiere este análisis. Me ha llevado a plantearme en varias ocasiones si los pasos dados iban en buena dirección.\n"
   ]
  }
 ],
 "metadata": {
  "kernelspec": {
   "display_name": "Python 3",
   "language": "python",
   "name": "python3"
  },
  "language_info": {
   "codemirror_mode": {
    "name": "ipython",
    "version": 3
   },
   "file_extension": ".py",
   "mimetype": "text/x-python",
   "name": "python",
   "nbconvert_exporter": "python",
   "pygments_lexer": "ipython3",
   "version": "3.7.4 (tags/v3.7.4:e09359112e, Jul  8 2019, 20:34:20) [MSC v.1916 64 bit (AMD64)]"
  },
  "vscode": {
   "interpreter": {
    "hash": "f0f4f3dc42defdb017242316173e90a6a944f54cc7eded60d5b735d4d60bc22e"
   }
  }
 },
 "nbformat": 4,
 "nbformat_minor": 4
}
